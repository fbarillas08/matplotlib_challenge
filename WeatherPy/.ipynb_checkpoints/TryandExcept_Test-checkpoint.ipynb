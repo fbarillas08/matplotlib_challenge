{
 "cells": [
  {
   "cell_type": "code",
   "execution_count": null,
   "metadata": {},
   "outputs": [],
   "source": [
    "try:\n",
    "        random_North_cities.loc[idx, 'Temperature'] = weather_json['main']['temp']\n",
    "    except KeyError:\n",
    "        random_North_cities['Temperature']=\"Not Available\"\n",
    "  \n",
    "    try:\n",
    "        random_North_cities.loc[idx, 'Humidity_pct'] = weather_json['main']['humidity']\n",
    "    except KeyError:\n",
    "        random_North_cities['Humidity_pct']=\"Not Available\"\n",
    "   \n",
    "    try:     \n",
    "        random_North_cities.loc[idx, 'Cloudiness_pct'] = weather_json['clouds']['all']\n",
    "    except KeyError:\n",
    "        random_North_cities['Cloudiness_pct']=\"Not Available\"\n",
    "         \n",
    "    try:\n",
    "        random_North_cities.loc[idx, 'Windspeed'] = weather_json['wind']['speed']\n",
    "    except KeyError:\n",
    "        random_North_cities['Windspeed']=\"Not Available\""
   ]
  }
 ],
 "metadata": {
  "kernelspec": {
   "display_name": "Python [conda env:PythonData] *",
   "language": "python",
   "name": "conda-env-PythonData-py"
  },
  "language_info": {
   "codemirror_mode": {
    "name": "ipython",
    "version": 3
   },
   "file_extension": ".py",
   "mimetype": "text/x-python",
   "name": "python",
   "nbconvert_exporter": "python",
   "pygments_lexer": "ipython3",
   "version": "3.6.10"
  }
 },
 "nbformat": 4,
 "nbformat_minor": 4
}
